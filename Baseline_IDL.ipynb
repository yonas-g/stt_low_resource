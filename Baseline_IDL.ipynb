{
  "cells": [
    {
      "cell_type": "markdown",
      "metadata": {},
      "source": [
        "## Notes from meeting on april 8th\n",
        "Use NN.Embeddings instead of one hot\n",
        "Randomize the voices\n",
        "\n",
        "##### What to do:\n",
        "1. Audio Augmentation\n",
        "2. Add Noice to Allas output\n",
        "3. Similarity Augmentation\n",
        "\n",
        "\n",
        "## By next week\n",
        "\n",
        "Try Akshat's Model on 2 and 4 intents\n",
        "\n",
        "#### Try different distance measures: Cosine & Eqculidain\n",
        "\n"
      ]
    },
    {
      "cell_type": "code",
      "execution_count": 29,
      "metadata": {
        "id": "gY9nB_KYyak9"
      },
      "outputs": [],
      "source": [
        "import torch\n",
        "import torch.nn as nn\n",
        "import torch.optim as optim\n",
        "from torch.nn.utils.rnn import pad_sequence, pack_padded_sequence, pad_packed_sequence\n",
        "from torch.utils.data import DataLoader\n",
        "from torch.utils.tensorboard import SummaryWriter\n",
        "\n",
        "import numpy as np\n",
        "import math\n",
        "from tqdm import tqdm\n",
        "from sklearn.metrics import accuracy_score\n",
        "\n",
        "from utils.data import *\n",
        "from utils.models import *"
      ]
    },
    {
      "cell_type": "markdown",
      "metadata": {},
      "source": [
        "# Dataloaders"
      ]
    },
    {
      "cell_type": "code",
      "execution_count": 4,
      "metadata": {},
      "outputs": [],
      "source": [
        "def get_data(path_to_data, speakers, recordings, voices, classes, feats=False):\n",
        "        X = []\n",
        "        Y = []\n",
        "        for speaker in speakers:\n",
        "            for record in recordings.keys():\n",
        "                for voice in voices:\n",
        "                    x_path = path_to_data+str(speaker)+\"/spchdatadir/recording\"+str(record)+\"/voice_\"+str(voice)+\".wav\"\n",
        "                    transcript = recognize(x_path, feats)\n",
        "                    if not feats:\n",
        "                        x = encode(transcript)\n",
        "                        x = np.pad(x, ((math.ceil((28-x.shape[0])/2), int((28-x.shape[0])/2)), (0, 0)))\n",
        "                    else:\n",
        "                        x = transcript\n",
        "                    X.append(x)\n",
        "                    Y.append(classes[recordings[record]])\n",
        "        return X, Y"
      ]
    },
    {
      "cell_type": "code",
      "execution_count": 48,
      "metadata": {},
      "outputs": [],
      "source": [
        "class GarboSamples(torch.utils.data.Dataset):\n",
        "\n",
        "    def __init__(self, path_to_data, speakers, voices, recordings, classes, feats=False): # You can use partition to specify train or dev\n",
        "        self.Xs, self.Ys = get_data(path_to_data, speakers, recordings, voices, classes, feats)\n",
        "        assert(len(self.Xs) == len(self.Ys))\n",
        "        self.length = len(self.Xs)\n",
        "\n",
        "    def __len__(self):\n",
        "        return self.length\n",
        "\n",
        "    def __getitem__(self, ind):\n",
        "\n",
        "        X = self.Xs[ind]\n",
        "        Y = self.Ys[ind]\n",
        "\n",
        "        Yy = torch.tensor(Y, dtype=torch.long).view(-1, 1)\n",
        "\n",
        "        return torch.from_numpy(X).float(), Yy\n",
        "\n",
        "    def collate_fn(self, batch):\n",
        "\n",
        "        batch_x = [x for x, y in batch]\n",
        "        batch_y = [y for x, y in batch]\n",
        "\n",
        "        batch_x_pad = pad_sequence(batch_x, batch_first=True)\n",
        "        lengths_x = [len(x) for x in batch_x]\n",
        "        \n",
        "        batch_y_pad = pad_sequence(batch_y, batch_first=True) \n",
        "        lengths_y = [len(y) for y in batch_y] \n",
        "\n",
        "        return batch_x_pad, batch_y_pad, torch.tensor(lengths_x).type(torch.int), torch.tensor(lengths_y)"
      ]
    },
    {
      "cell_type": "markdown",
      "metadata": {},
      "source": [
        "# Baseline Model"
      ]
    },
    {
      "cell_type": "code",
      "execution_count": 43,
      "metadata": {},
      "outputs": [],
      "source": [
        "class Baseline(nn.Module):\n",
        "    def __init__(self, input_channels, num_classes):\n",
        "        super(Baseline, self).__init__()\n",
        "\n",
        "        self.CNN = nn.Sequential(\n",
        "            nn.Conv1d(in_channels=input_channels,out_channels= 256, kernel_size=3),\n",
        "            nn.ReLU(inplace=True)\n",
        "        )\n",
        "        self.lstm = nn.LSTM(input_size=256, hidden_size=256, bidirectional=False)\n",
        "        self.classify = nn.Sequential(\n",
        "            nn.Linear(in_features=int(256*26), out_features=num_classes),\n",
        "            nn.Softmax()\n",
        "        )\n",
        "    def forward(self, x):\n",
        "        cnn_input = x.permute(0, 2, 1)\n",
        "        cnn_out = self.CNN(cnn_input)\n",
        "        lstm_in = cnn_out.permute(0, 2, 1)\n",
        "        out1, (out2, out3) = self.lstm(lstm_in)\n",
        "        linear_input = out1.reshape(BATCH_SIZE, -1)\n",
        "        output = self.classify(linear_input)\n",
        "        \n",
        "        return output\n"
      ]
    },
    {
      "cell_type": "code",
      "execution_count": 44,
      "metadata": {},
      "outputs": [
        {
          "data": {
            "text/plain": [
              "'\\n\\n            33:\"Grap\", \\n            36:\"Point\",\\n'"
            ]
          },
          "execution_count": 44,
          "metadata": {},
          "output_type": "execute_result"
        }
      ],
      "source": [
        "path_to_data = \"Data/Speakers/pp\"\n",
        "train_speakers = range(2,3)\n",
        "val_speakers = [9, 10]\n",
        "test_speakers = [11, 12]\n",
        "recordings = {29:\"Lift\",\n",
        "            1:\"Approach\"}\n",
        "classes = {\"Lift\":0, \n",
        "        \"Grap\":1, \n",
        "        \"Point\":2, \n",
        "        \"Approach\":3}\n",
        "voices = range(1, 8)\n",
        "feats = True\n",
        "\n",
        "\"\"\"\n",
        "\n",
        "            33:\"Grap\", \n",
        "            36:\"Point\",\n",
        "\"\"\""
      ]
    },
    {
      "cell_type": "code",
      "execution_count": 45,
      "metadata": {},
      "outputs": [],
      "source": [
        "BATCH_SIZE=2\n",
        "train_data = GarboSamples(path_to_data,train_speakers, voices, recordings, classes, feats)\n",
        "val_data = GarboSamples(path_to_data,val_speakers, voices, recordings, classes, feats)\n",
        "test_data = GarboSamples(path_to_data, test_speakers, voices, recordings, classes, feats)\n",
        "train_loader = DataLoader(train_data, batch_size=BATCH_SIZE, shuffle=True, collate_fn=train_data.collate_fn)\n",
        "val_loader = DataLoader(val_data, batch_size=BATCH_SIZE, shuffle=True, collate_fn=val_data.collate_fn)\n",
        "test_loader = DataLoader(test_data, batch_size=BATCH_SIZE, shuffle=False, collate_fn=test_data.collate_fn)\n"
      ]
    },
    {
      "cell_type": "code",
      "execution_count": 46,
      "metadata": {},
      "outputs": [
        {
          "name": "stdout",
          "output_type": "stream",
          "text": [
            "Train dataset samples = 14, batches = 7\n",
            "Val dataset samples = 28, batches = 14\n",
            "Test dataset samples = 28, batches = 14\n"
          ]
        }
      ],
      "source": [
        "print(\"Train dataset samples = {}, batches = {}\".format(train_data.__len__(), len(train_loader)))\n",
        "print(\"Val dataset samples = {}, batches = {}\".format(val_data.__len__(), len(val_loader)))\n",
        "print(\"Test dataset samples = {}, batches = {}\".format(test_data.__len__(), len(test_loader)))"
      ]
    },
    {
      "cell_type": "code",
      "execution_count": 47,
      "metadata": {},
      "outputs": [
        {
          "name": "stdout",
          "output_type": "stream",
          "text": [
            "torch.Size([1, 1])\n",
            "torch.Size([2, 85, 120]) torch.Size([2, 1, 1]) torch.Size([2]) torch.Size([2])\n"
          ]
        }
      ],
      "source": [
        "for data in val_loader:\n",
        "    x, y, lx, ly = data # if you face an error saying \"Cannot unpack\", then you are not passing the collate_fn argument\n",
        "    print(x.shape, y.shape, lx.shape, ly.shape)\n",
        "    break"
      ]
    },
    {
      "cell_type": "code",
      "execution_count": 351,
      "metadata": {},
      "outputs": [],
      "source": [
        "epochs = 50\n",
        "model=Baseline(229, 4)\n",
        "criterion = nn.CrossEntropyLoss()\n",
        "optimizer = optim.Adam(model.parameters(), lr=0.01)\n",
        "scheduler = torch.optim.lr_scheduler.CosineAnnealingLR(optimizer, T_max=(len(train_loader) * epochs))"
      ]
    },
    {
      "cell_type": "code",
      "execution_count": 303,
      "metadata": {},
      "outputs": [
        {
          "name": "stderr",
          "output_type": "stream",
          "text": [
            "C:\\Users\\Hp\\AppData\\Local\\Programs\\Python\\Python39\\lib\\site-packages\\torch\\nn\\modules\\module.py:1051: UserWarning: Implicit dimension choice for softmax has been deprecated. Change the call to include dim=X as an argument.\n",
            "  return forward_call(*input, **kwargs)\n",
            "C:\\Users\\Hp\\AppData\\Local\\Programs\\Python\\Python39\\lib\\site-packages\\torch\\nn\\modules\\container.py:139: UserWarning: Implicit dimension choice for softmax has been deprecated. Change the call to include dim=X as an argument.\n",
            "  input = module(input)\n"
          ]
        }
      ],
      "source": [
        "writer = SummaryWriter()\n",
        "for x, y in train_loader:\n",
        "    writer.add_graph(model, x)\n",
        "    break"
      ]
    },
    {
      "cell_type": "markdown",
      "metadata": {},
      "source": [
        "## Train"
      ]
    },
    {
      "cell_type": "code",
      "execution_count": 352,
      "metadata": {},
      "outputs": [
        {
          "name": "stderr",
          "output_type": "stream",
          "text": [
            "C:\\Users\\Hp\\AppData\\Local\\Programs\\Python\\Python39\\lib\\site-packages\\torch\\nn\\modules\\container.py:139: UserWarning: Implicit dimension choice for softmax has been deprecated. Change the call to include dim=X as an argument.\n",
            "  input = module(input)\n"
          ]
        }
      ],
      "source": [
        "for epoch in range(epochs):\n",
        "    model.train()\n",
        "    total_loss = 0\n",
        "    predictions = []\n",
        "    trues = []\n",
        "    for i,(x, y) in enumerate(train_loader):\n",
        "\n",
        "        optimizer.zero_grad()\n",
        "        output = model(x)\n",
        "\n",
        "        loss = criterion(output, y)\n",
        "        total_loss+=loss\n",
        "        loss.backward()\n",
        "        optimizer.step()\n",
        "        pred = np.argmax(output.detach().numpy())\n",
        "        predictions.append(pred)\n",
        "        trues.append(y.flatten()[0].numpy())\n",
        "        scheduler.step()\n",
        "        \n",
        "        del x\n",
        "        del y\n",
        "        del loss\n",
        "    \n"
      ]
    },
    {
      "cell_type": "markdown",
      "metadata": {},
      "source": [
        "## Validate"
      ]
    },
    {
      "cell_type": "code",
      "execution_count": 353,
      "metadata": {},
      "outputs": [
        {
          "name": "stderr",
          "output_type": "stream",
          "text": [
            "Validation:  93%|█████████▎| 13/14 [00:00<00:00, 132.58it/s, loss=0.8865]"
          ]
        },
        {
          "name": "stdout",
          "output_type": "stream",
          "text": [
            "Validation Loss 0.8865, Validation Accuracy 1.0000\n"
          ]
        }
      ],
      "source": [
        "batch_bar = tqdm(total=len(val_loader), dynamic_ncols=True, leave=False, position=0, desc='Validation')\n",
        "total_loss=0\n",
        "predictions = []\n",
        "trues = []\n",
        "for i,(x, y) in enumerate(val_loader):\n",
        "\n",
        "    with torch.no_grad():\n",
        "        output = model(x)\n",
        "        \n",
        "    loss = criterion(output, y)\n",
        "    total_loss+=loss\n",
        "    pred = np.argmax(output.detach().numpy())\n",
        "    predictions.append(pred)\n",
        "    trues.append(y.flatten()[0].numpy())\n",
        "    \n",
        "    \n",
        "    batch_bar.set_postfix(\n",
        "        loss=\"{:.04f}\".format(float(total_loss / (i + 1))))\n",
        "    batch_bar.update()\n",
        "    del x\n",
        "    del y\n",
        "    del loss\n",
        "print(\"Validation Loss {:.04f}, Validation Accuracy {:.04f}\".format(\n",
        "        float(total_loss / len(val_loader)),\n",
        "        float(accuracy_score(predictions, trues))))\n"
      ]
    },
    {
      "cell_type": "markdown",
      "metadata": {},
      "source": [
        "## Test"
      ]
    },
    {
      "cell_type": "code",
      "execution_count": 354,
      "metadata": {},
      "outputs": [
        {
          "name": "stderr",
          "output_type": "stream",
          "text": [
            "C:\\Users\\Hp\\AppData\\Local\\Programs\\Python\\Python39\\lib\\site-packages\\torch\\nn\\modules\\container.py:139: UserWarning: Implicit dimension choice for softmax has been deprecated. Change the call to include dim=X as an argument.\n",
            "  input = module(input)\n",
            "Test:  93%|█████████▎| 13/14 [00:00<00:00, 155.83it/s, progress=0.9286]"
          ]
        },
        {
          "name": "stdout",
          "output_type": "stream",
          "text": [
            "Testing Accuracy: 0.9286\n"
          ]
        }
      ],
      "source": [
        "predictions = []\n",
        "trues = []\n",
        "batch_bar = tqdm(total=len(test_loader), dynamic_ncols=True, leave=False, position=0, desc='Test')\n",
        "total_loss=0\n",
        "for i,(x,y) in enumerate(test_loader):\n",
        "    with torch.no_grad():\n",
        "        output = model(x)\n",
        "    \n",
        "    pred = np.argmax(output.detach().numpy())\n",
        "    predictions.append(pred)\n",
        "    trues.append(y.flatten()[0].numpy())\n",
        "    \n",
        "    batch_bar.set_postfix(\n",
        "        progress=\"{:.04f}\".format(float(i / len(test_loader))))\n",
        "    batch_bar.update()\n",
        "    del x\n",
        "    del y\n",
        "print(\"Testing Accuracy: {:.04f}\".format(accuracy_score(predictions, trues)))\n"
      ]
    }
  ],
  "metadata": {
    "colab": {
      "name": "Baseline IDL.ipynb",
      "provenance": []
    },
    "kernelspec": {
      "display_name": "Python 3",
      "name": "python3"
    },
    "language_info": {
      "codemirror_mode": {
        "name": "ipython",
        "version": 3
      },
      "file_extension": ".py",
      "mimetype": "text/x-python",
      "name": "python",
      "nbconvert_exporter": "python",
      "pygments_lexer": "ipython3",
      "version": "3.9.7"
    }
  },
  "nbformat": 4,
  "nbformat_minor": 0
}
