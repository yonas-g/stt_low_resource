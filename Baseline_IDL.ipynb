{
  "cells": [
    {
      "cell_type": "code",
      "execution_count": 63,
      "metadata": {
        "id": "gY9nB_KYyak9"
      },
      "outputs": [],
      "source": [
        "from allosaurus.app import read_recognizer\n",
        "import torch\n",
        "import torch.nn as nn\n",
        "import torch.optim as optim\n",
        "import allosaurus\n",
        "import numpy as np\n",
        "import allosaurus\n",
        "from utils import *\n",
        "from torch.utils.data import Dataset, DataLoader\n",
        "from tqdm import tqdm\n",
        "from sklearn.metrics import accuracy_score\n",
        "import math"
      ]
    },
    {
      "cell_type": "markdown",
      "metadata": {},
      "source": [
        "# Dataloaders"
      ]
    },
    {
      "cell_type": "code",
      "execution_count": 197,
      "metadata": {},
      "outputs": [],
      "source": [
        "class GarboSamples(torch.utils.data.Dataset):\n",
        "\n",
        "    def __init__(self, path_to_data, speakers, recordings, voices, classes): # You can use partition to specify train or dev\n",
        "        self.Xs = []\n",
        "        self.Ys = []\n",
        "        for speaker in speakers:\n",
        "            for record in recordings.keys():\n",
        "                for voice in voices:\n",
        "                    x_path = path_to_data+str(speaker)+\"/spchdatadir/recording\"+str(record)+\"/voice_\"+str(voice)+\".wav\"\n",
        "                    transcript = recognize(x_path)\n",
        "                    x = encode(transcript)\n",
        "                    x = np.pad(x, ((math.ceil((28-x.shape[0])/2), int((28-x.shape[0])/2)), (0, 0)))\n",
        "                    self.Xs.append(x)\n",
        "                    self.Ys.append(classes[recordings[record]])\n",
        "        \n",
        "        #torched_X = np.array(self.Xs)\n",
        "        #print(torched_X.shape)\n",
        "        #self.X_final = nn.utils.rnn.pad_sequence(torch.Tensor(torched_X), batch_first=True)\n",
        "        \n",
        "        assert(len(self.Xs) == len(self.Ys))\n",
        "\n",
        "        self.length = len(self.Xs)\n",
        "\n",
        "\n",
        "    def __len__(self):\n",
        "        return self.length\n",
        "\n",
        "    def __getitem__(self, ind):\n",
        "\n",
        "        X = self.Xs[ind]\n",
        "        Y = self.Ys[ind]\n",
        "\n",
        "        Yy = torch.tensor(Y, dtype=torch.float32)\n",
        "\n",
        "        return torch.from_numpy(X).float(), Yy"
      ]
    },
    {
      "cell_type": "markdown",
      "metadata": {},
      "source": [
        "# Baseline Model"
      ]
    },
    {
      "cell_type": "code",
      "execution_count": 191,
      "metadata": {},
      "outputs": [],
      "source": [
        "class Baseline(nn.Module):\n",
        "    def __init__(self, input_channels, num_classes):\n",
        "        super(Baseline, self).__init__()\n",
        "\n",
        "        self.CNN = nn.Sequential(\n",
        "            nn.Conv1d(in_channels=input_channels,out_channels= 256, kernel_size=3),\n",
        "            nn.ReLU()\n",
        "        )\n",
        "        self.lstm = nn.LSTM(input_size=256, hidden_size=256, bidirectional=False)\n",
        "        self.classify = nn.Sequential(\n",
        "            nn.Linear(in_features=256*26, out_features=num_classes),\n",
        "            nn.Softmax()\n",
        "        )\n",
        "    def forward(self, x):\n",
        "        cnn_input = x.permute(0, 2, 1)\n",
        "        cnn_out = self.CNN(cnn_input)\n",
        "        lstm_in = cnn_out.permute(0, 2, 1)\n",
        "        out1, (out2, out3) = self.lstm(lstm_in)\n",
        "        ## (batch, downsamples_seq, 256)\n",
        "        linear_input = torch.flatten(out1).reshape(1, -1)\n",
        "        output = self.classify(linear_input)\n",
        "        ## (batch, down., 4)\n",
        "        \n",
        "        return output\n"
      ]
    },
    {
      "cell_type": "code",
      "execution_count": 207,
      "metadata": {},
      "outputs": [],
      "source": [
        "path_to_data = \"Data/Speakers/pp\"\n",
        "train_speakers = range(2, 8)\n",
        "val_speakers = [9, 10]\n",
        "test_speakers = [11, 12]\n",
        "recordings = {29:\"Lift\",\n",
        "            33:\"Grap\", \n",
        "            36:\"Point\",\n",
        "            1:\"Approach\"}\n",
        "classes = {\"Lift\":[1,0,0,0], \n",
        "        \"Grap\":[0,1,0,0], \n",
        "        \"Point\":[0,0,1,0], \n",
        "        \"Approach\":[0,0,0,1]}\n",
        "voices = [1]"
      ]
    },
    {
      "cell_type": "code",
      "execution_count": 198,
      "metadata": {},
      "outputs": [],
      "source": [
        "train_data = GarboSamples(path_to_data=path_to_data,speakers=train_speakers, voices=voices, recordings=recordings, classes = classes)\n",
        "val_data = GarboSamples(path_to_data=path_to_data,speakers=val_speakers, voices=voices, recordings=recordings, classes = classes)\n",
        "test_data = GarboSamples(path_to_data=path_to_data,speakers=test_speakers, voices=voices, recordings=recordings, classes = classes)\n",
        "train_loader = DataLoader(train_data, batch_size=1, shuffle=True)\n",
        "val_loader = DataLoader(val_data, batch_size=1, shuffle=True)\n",
        "test_loader = DataLoader(test_data, batch_size=1, shuffle=True)\n"
      ]
    },
    {
      "cell_type": "code",
      "execution_count": 49,
      "metadata": {},
      "outputs": [
        {
          "name": "stdout",
          "output_type": "stream",
          "text": [
            "Train dataset samples = 24, batches = 24\n",
            "Val dataset samples = 8, batches = 8\n",
            "Test dataset samples = 8, batches = 8\n"
          ]
        }
      ],
      "source": [
        "print(\"Train dataset samples = {}, batches = {}\".format(train_data.__len__(), len(train_loader)))\n",
        "print(\"Val dataset samples = {}, batches = {}\".format(val_data.__len__(), len(val_loader)))\n",
        "print(\"Test dataset samples = {}, batches = {}\".format(test_data.__len__(), len(test_loader)))"
      ]
    },
    {
      "cell_type": "code",
      "execution_count": 241,
      "metadata": {},
      "outputs": [
        {
          "name": "stderr",
          "output_type": "stream",
          "text": [
            "C:\\Users\\Hp\\AppData\\Local\\Programs\\Python\\Python39\\lib\\site-packages\\torch\\cuda\\amp\\grad_scaler.py:115: UserWarning: torch.cuda.amp.GradScaler is enabled, but CUDA is not available.  Disabling.\n",
            "  warnings.warn(\"torch.cuda.amp.GradScaler is enabled, but CUDA is not available.  Disabling.\")\n"
          ]
        }
      ],
      "source": [
        "epochs = 50\n",
        "model=Baseline(229, 4)\n",
        "criterion = nn.BCEWithLogitsLoss()\n",
        "optimizer = optim.Adam(model.parameters(), lr=0.01)\n",
        "scheduler = torch.optim.lr_scheduler.CosineAnnealingLR(optimizer, T_max=(len(train_loader) * epochs))\n",
        "scaler = torch.cuda.amp.GradScaler()"
      ]
    },
    {
      "cell_type": "code",
      "execution_count": null,
      "metadata": {},
      "outputs": [],
      "source": [
        "for epoch in range(epochs):\n",
        "    model.train()\n",
        "    total_loss = 0\n",
        "    batch_bar = tqdm(total=len(train_loader), dynamic_ncols=True, leave=False, position=0, desc='Train') \n",
        "    predictions = []\n",
        "    trues = []\n",
        "    for i,(x, y) in enumerate(train_loader):\n",
        "\n",
        "        optimizer.zero_grad()\n",
        "        output = model(x)\n",
        "\n",
        "        loss = criterion(output, y)\n",
        "        total_loss+=loss\n",
        "        loss.backward()\n",
        "        optimizer.step()\n",
        "        predictions.append(np.array(output.detach().numpy()[0], dtype=np.int32))\n",
        "        trues.append(y.detach().numpy()[0])\n",
        "\n",
        "        scheduler.step()\n",
        "        batch_bar.set_postfix(\n",
        "                    loss=\"{:.04f}\".format(float(total_loss / (i + 1))),\n",
        "                    lr=\"{:.04f}\".format(float(optimizer.param_groups[0]['lr'])))\n",
        "        batch_bar.update()\n",
        "        del x\n",
        "        del y\n",
        "        del loss\n",
        "    \n",
        "    print(\"Epoch {}/{}: Train Loss {:.04f}, Training Accuracy {:.04f}, Learning Rate {:.04f}\".format(\n",
        "        epoch + 1,\n",
        "        epochs,\n",
        "        float(total_loss / len(train_loader)),\n",
        "        float(accuracy_score(predictions, trues)),\n",
        "        float(optimizer.param_groups[0]['lr'])))\n",
        "    \n"
      ]
    },
    {
      "cell_type": "code",
      "execution_count": 254,
      "metadata": {},
      "outputs": [
        {
          "name": "stderr",
          "output_type": "stream",
          "text": [
            "C:\\Users\\Hp\\AppData\\Local\\Programs\\Python\\Python39\\lib\\site-packages\\torch\\nn\\modules\\container.py:139: UserWarning: Implicit dimension choice for softmax has been deprecated. Change the call to include dim=X as an argument.\n",
            "  input = module(input)\n",
            "Validation:  88%|████████▊ | 7/8 [00:00<00:00, 119.89it/s, loss=0.7857]"
          ]
        },
        {
          "name": "stdout",
          "output_type": "stream",
          "text": [
            "Validation Loss 0.7857, Validation Accuracy 0.2500\n"
          ]
        }
      ],
      "source": [
        "batch_bar = tqdm(total=len(val_loader), dynamic_ncols=True, leave=False, position=0, desc='Validation')\n",
        "total_loss=0\n",
        "for i,(x, y) in enumerate(val_loader):\n",
        "\n",
        "    with torch.no_grad():\n",
        "        output = model(x)\n",
        "        \n",
        "    loss = criterion(output, y)\n",
        "    total_loss+=loss\n",
        "    predictions.append(np.array(output.detach().numpy()[0], dtype=np.int32))\n",
        "    trues.append(y.detach().numpy()[0])\n",
        "    \n",
        "    batch_bar.set_postfix(\n",
        "        loss=\"{:.04f}\".format(float(total_loss / (i + 1))))\n",
        "    batch_bar.update()\n",
        "    del x\n",
        "    del y\n",
        "    del loss\n",
        "print(\"Validation Loss {:.04f}, Validation Accuracy {:.04f}\".format(\n",
        "        float(total_loss / len(val_loader)),\n",
        "        accuracy_score(predictions, trues)))\n"
      ]
    },
    {
      "cell_type": "code",
      "execution_count": 253,
      "metadata": {},
      "outputs": [
        {
          "name": "stderr",
          "output_type": "stream",
          "text": [
            "C:\\Users\\Hp\\AppData\\Local\\Programs\\Python\\Python39\\lib\\site-packages\\torch\\nn\\modules\\container.py:139: UserWarning: Implicit dimension choice for softmax has been deprecated. Change the call to include dim=X as an argument.\n",
            "  input = module(input)\n",
            "Test:  88%|████████▊ | 7/8 [00:00<00:00, 130.39it/s, progress=0.8750]"
          ]
        },
        {
          "name": "stdout",
          "output_type": "stream",
          "text": [
            "Testing Accuracy:  0.25\n"
          ]
        }
      ],
      "source": [
        "predictions = []\n",
        "trues = []\n",
        "batch_bar = tqdm(total=len(test_loader), dynamic_ncols=True, leave=False, position=0, desc='Test')\n",
        "total_loss=0\n",
        "for i,(x,y) in enumerate(test_loader):\n",
        "    with torch.no_grad():\n",
        "        output = model(x)\n",
        "    \n",
        "    predictions.append(np.array(output.detach().numpy()[0], dtype=np.int32))\n",
        "    trues.append(y.detach().numpy()[0])\n",
        "    batch_bar.set_postfix(\n",
        "        progress=\"{:.04f}\".format(float(i / len(test_loader))))\n",
        "    batch_bar.update()\n",
        "    del x\n",
        "    del y\n",
        "print(\"Testing Accuracy: \", accuracy_score(predictions, trues))\n"
      ]
    }
  ],
  "metadata": {
    "colab": {
      "name": "Baseline IDL.ipynb",
      "provenance": []
    },
    "kernelspec": {
      "display_name": "Python 3",
      "name": "python3"
    },
    "language_info": {
      "codemirror_mode": {
        "name": "ipython",
        "version": 3
      },
      "file_extension": ".py",
      "mimetype": "text/x-python",
      "name": "python",
      "nbconvert_exporter": "python",
      "pygments_lexer": "ipython3",
      "version": "3.9.7"
    }
  },
  "nbformat": 4,
  "nbformat_minor": 0
}
