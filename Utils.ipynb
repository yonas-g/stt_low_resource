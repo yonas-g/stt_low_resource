{
 "cells": [
  {
   "cell_type": "code",
   "execution_count": 60,
   "id": "5980796a-5f0c-4128-a848-194e69fd08cd",
   "metadata": {},
   "outputs": [],
   "source": [
    "import os\n",
    "from pathlib import Path\n",
    "from argparse import Namespace\n",
    "\n",
    "import allosaurus\n",
    "from allosaurus.app import read_recognizer\n",
    "from allosaurus.audio import read_audio\n",
    "from allosaurus.pm.factory import read_pm\n",
    "from allosaurus.lm.inventory import Inventory\n",
    "from allosaurus.model import resolve_model_name, get_all_models, get_model_path"
   ]
  },
  {
   "cell_type": "code",
   "execution_count": 7,
   "id": "c51b2913-53d4-4d77-9df4-7ef7be30f239",
   "metadata": {},
   "outputs": [
    {
     "data": {
      "text/plain": [
       "'æ l u s ɔ ɹ s'"
      ]
     },
     "execution_count": 7,
     "metadata": {},
     "output_type": "execute_result"
    }
   ],
   "source": [
    "# os.getcwd()\n",
    "audio_file =  './sample.wav'\n",
    "model = read_recognizer('latest')\n",
    "results = model.recognize(audio_file)\n",
    "results"
   ]
  },
  {
   "cell_type": "code",
   "execution_count": 62,
   "id": "d17b10cf-6cbd-4e89-afdc-d8bd560e1c7e",
   "metadata": {},
   "outputs": [],
   "source": [
    "# C:\\Users\\Hp\\anaconda3\\lib\\site-packages\\allosaurus\\pretrained\n",
    "# os.listdir(\"C:/Users/Hp/anaconda3/lib/site-packages/allosaurus/pretrained/uni2005\")\n",
    "\n"
   ]
  },
  {
   "cell_type": "markdown",
   "id": "765b48d6-6734-4332-87bd-fc10f84a0e23",
   "metadata": {
    "jp-MarkdownHeadingCollapsed": true,
    "tags": []
   },
   "source": [
    "# Feature Extraction"
   ]
  },
  {
   "cell_type": "code",
   "execution_count": 61,
   "id": "0b8ab3e7-815c-4e83-b242-54c5a165cad8",
   "metadata": {},
   "outputs": [],
   "source": [
    "model_path = get_model_path(\"latest\")\n",
    "model_name = resolve_model_name(\"latest\", None)\n",
    "inference_config = Namespace(model=model_name, device_id=-1, lang='ipa', approximate=False, prior=None)\n",
    "\n",
    "# model_path = Path(allosaurus.__file__).parent / 'pretrained' / inference_config.model"
   ]
  },
  {
   "cell_type": "code",
   "execution_count": 57,
   "id": "7023494a-6f3f-4cb0-b5bc-7b100f3a8eb2",
   "metadata": {},
   "outputs": [
    {
     "data": {
      "text/plain": [
       "('uni2005',\n",
       " Namespace(model='uni2005', device_id=-1, lang='ipa', approximate=False, prior=None))"
      ]
     },
     "execution_count": 57,
     "metadata": {},
     "output_type": "execute_result"
    }
   ],
   "source": [
    "model_name, inference_config"
   ]
  },
  {
   "cell_type": "code",
   "execution_count": 58,
   "id": "0c6a2c1d-09cf-4c14-b854-c6b41089287f",
   "metadata": {},
   "outputs": [],
   "source": [
    "pm = read_pm(model_path, inference_config)"
   ]
  },
  {
   "cell_type": "code",
   "execution_count": 59,
   "id": "ba16ff3e-ff89-48d3-bb46-98d09c540c7b",
   "metadata": {},
   "outputs": [
    {
     "data": {
      "text/plain": [
       "('æ l u s ɔ ɹ s',\n",
       " 13,\n",
       " (35, 120),\n",
       " array([[-1.3275121 , -0.2194957 ,  0.6242982 , ..., -0.23495641,\n",
       "          0.05200976,  0.85709184],\n",
       "        [-1.5864275 ,  0.1535516 ,  0.9751952 , ...,  1.5554214 ,\n",
       "         -2.0703316 ,  0.48564267],\n",
       "        [-1.6092446 , -0.10560995,  0.7027959 , ...,  1.3302747 ,\n",
       "          0.13863873, -0.23109473],\n",
       "        ...,\n",
       "        [-0.63638103, -0.8867026 ,  1.0978942 , ...,  2.0134444 ,\n",
       "          0.36944944, -0.5184862 ],\n",
       "        [-1.4749463 ,  0.06873361,  0.9781027 , ..., -0.52928275,\n",
       "          0.56808424, -1.5015886 ],\n",
       "        [-1.432489  , -0.36272946,  0.43866175, ...,  0.23993936,\n",
       "         -0.42920986,  0.46625167]], dtype=float32))"
      ]
     },
     "execution_count": 59,
     "metadata": {},
     "output_type": "execute_result"
    }
   ],
   "source": [
    "# load wav audio\n",
    "audio_file = \"./sample.wav\"\n",
    "audio = read_audio(audio_file)\n",
    "\n",
    "# extract feature\n",
    "feat = pm.compute(audio)\n",
    "model.recognize(audio_file), len(model.recognize(audio_file)), feat.shape, feat"
   ]
  },
  {
   "cell_type": "markdown",
   "id": "57cd003d-8849-4c83-a447-8bbe4859bb42",
   "metadata": {
    "jp-MarkdownHeadingCollapsed": true,
    "tags": []
   },
   "source": [
    "# List Phones"
   ]
  },
  {
   "cell_type": "code",
   "execution_count": 63,
   "id": "2c31d3a0-868d-42aa-9d3a-ea33f0d810ac",
   "metadata": {},
   "outputs": [],
   "source": [
    "inventory = Inventory(model_path)"
   ]
  },
  {
   "cell_type": "code",
   "execution_count": 65,
   "id": "c7c70859-87e0-4e51-b9aa-af22199b255c",
   "metadata": {},
   "outputs": [],
   "source": [
    "lang = \"ipa\"\n",
    "approximate = False\n",
    "\n",
    "mask = inventory.get_mask(lang.lower(), approximation=approximate)\n",
    "unit = mask.target_unit"
   ]
  },
  {
   "cell_type": "code",
   "execution_count": 75,
   "id": "09dad630-3e65-4096-919a-7f10f0a1cd99",
   "metadata": {
    "tags": []
   },
   "outputs": [],
   "source": [
    "# need to remove <blk>\n",
    "# unit.id_to_unit.values()\n",
    "phones = ['I', 'a', 'aː', 'ã', 'ă', 'b', 'bʲ', 'bʲj', 'bʷ', 'bʼ', 'bː', 'b̞', 'b̤', 'b̥', 'c', 'd', 'dʒ', 'dʲ', 'dː', 'd̚', 'd̥', 'd̪', 'd̯', 'd͡z', 'd͡ʑ', 'd͡ʒ', 'd͡ʒː', 'd͡ʒ̤', 'e', 'eː', 'e̞', 'f', 'fʲ', 'fʷ', 'fː', 'g', 'gʲ', 'gʲj', 'gʷ', 'gː', 'h', 'hʷ', 'i', 'ij', 'iː', 'i̞', 'i̥', 'i̯', 'j', 'k', 'kx', 'kʰ', 'kʲ', 'kʲj', 'kʷ', 'kʷʼ', 'kʼ', 'kː', 'k̟ʲ', 'k̟̚', 'k͡p̚', 'l', 'lʲ', 'lː', 'l̪', 'm', 'mʲ', 'mʲj', 'mʷ', 'mː', 'n', 'nj', 'nʲ', 'nː', 'n̪', 'n̺', 'o', 'oː', 'o̞', 'o̥', 'p', 'pf', 'pʰ', 'pʲ', 'pʲj', 'pʷ', 'pʷʼ', 'pʼ', 'pː', 'p̚', 'q', 'r', 'rː', 's', 'sʲ', 'sʼ', 'sː', 's̪', 't', 'ts', 'tsʰ', 'tɕ', 'tɕʰ', 'tʂ', 'tʂʰ', 'tʃ', 'tʰ', 'tʲ', 'tʷʼ', 'tʼ', 'tː', 't̚', 't̪', 't̪ʰ', 't̪̚', 't͡s', 't͡sʼ', 't͡ɕ', 't͡ɬ', 't͡ʃ', 't͡ʃʲ', 't͡ʃʼ', 't͡ʃː', 'u', 'uə', 'uː', 'u͡w', 'v', 'vʲ', 'vʷ', 'vː', 'v̞', 'v̞ʲ', 'w', 'x', 'x̟ʲ', 'y', 'z', 'zj', 'zʲ', 'z̪', 'ä', 'æ', 'ç', 'çj', 'ð', 'ø', 'ŋ', 'ŋ̟', 'ŋ͡m', 'œ', 'œ̃', 'ɐ', 'ɐ̞', 'ɑ', 'ɑ̱', 'ɒ', 'ɓ', 'ɔ', 'ɔ̃', 'ɕ', 'ɕː', 'ɖ̤', 'ɗ', 'ə', 'ɛ', 'ɛ̃', 'ɟ', 'ɡ', 'ɡʲ', 'ɡ̤', 'ɡ̥', 'ɣ', 'ɣj', 'ɤ', 'ɤɐ̞', 'ɤ̆', 'ɥ', 'ɦ', 'ɨ', 'ɪ', 'ɫ', 'ɯ', 'ɯ̟', 'ɯ̥', 'ɰ', 'ɱ', 'ɲ', 'ɳ', 'ɴ', 'ɵ', 'ɸ', 'ɹ', 'ɹ̩', 'ɻ', 'ɻ̩', 'ɽ', 'ɾ', 'ɾj', 'ɾʲ', 'ɾ̠', 'ʀ', 'ʁ', 'ʁ̝', 'ʂ', 'ʃ', 'ʃʲː', 'ʃ͡ɣ', 'ʈ', 'ʉ̞', 'ʊ', 'ʋ', 'ʋʲ', 'ʌ', 'ʎ', 'ʏ', 'ʐ', 'ʑ', 'ʒ', 'ʒ͡ɣ', 'ʔ', 'ʝ', 'ː', 'β', 'β̞', 'θ', 'χ', 'ә', 'ḁ']"
   ]
  },
  {
   "cell_type": "code",
   "execution_count": 77,
   "id": "7e5b72b8-6499-4652-a4b3-99b0231b3ab1",
   "metadata": {},
   "outputs": [],
   "source": [
    "# phones"
   ]
  },
  {
   "cell_type": "markdown",
   "id": "3d21c359-5261-4ed5-9c13-03c04b8627a7",
   "metadata": {},
   "source": [
    "# Utils"
   ]
  },
  {
   "cell_type": "code",
   "execution_count": 87,
   "id": "2fb0bb2d-9b61-48e4-b4ce-27bf3c16bd3d",
   "metadata": {},
   "outputs": [],
   "source": [
    "import numpy as np\n",
    "\n",
    "model = read_recognizer('latest')\n",
    "phones = ['I', 'a', 'aː', 'ã', 'ă', 'b', 'bʲ', 'bʲj', 'bʷ', 'bʼ', 'bː', 'b̞', 'b̤', 'b̥', 'c', 'd', 'dʒ', 'dʲ', 'dː', 'd̚', 'd̥', 'd̪', 'd̯', 'd͡z', 'd͡ʑ', 'd͡ʒ', 'd͡ʒː', 'd͡ʒ̤', 'e', 'eː', 'e̞', 'f', 'fʲ', 'fʷ', 'fː', 'g', 'gʲ', 'gʲj', 'gʷ', 'gː', 'h', 'hʷ', 'i', 'ij', 'iː', 'i̞', 'i̥', 'i̯', 'j', 'k', 'kx', 'kʰ', 'kʲ', 'kʲj', 'kʷ', 'kʷʼ', 'kʼ', 'kː', 'k̟ʲ', 'k̟̚', 'k͡p̚', 'l', 'lʲ', 'lː', 'l̪', 'm', 'mʲ', 'mʲj', 'mʷ', 'mː', 'n', 'nj', 'nʲ', 'nː', 'n̪', 'n̺', 'o', 'oː', 'o̞', 'o̥', 'p', 'pf', 'pʰ', 'pʲ', 'pʲj', 'pʷ', 'pʷʼ', 'pʼ', 'pː', 'p̚', 'q', 'r', 'rː', 's', 'sʲ', 'sʼ', 'sː', 's̪', 't', 'ts', 'tsʰ', 'tɕ', 'tɕʰ', 'tʂ', 'tʂʰ', 'tʃ', 'tʰ', 'tʲ', 'tʷʼ', 'tʼ', 'tː', 't̚', 't̪', 't̪ʰ', 't̪̚', 't͡s', 't͡sʼ', 't͡ɕ', 't͡ɬ', 't͡ʃ', 't͡ʃʲ', 't͡ʃʼ', 't͡ʃː', 'u', 'uə', 'uː', 'u͡w', 'v', 'vʲ', 'vʷ', 'vː', 'v̞', 'v̞ʲ', 'w', 'x', 'x̟ʲ', 'y', 'z', 'zj', 'zʲ', 'z̪', 'ä', 'æ', 'ç', 'çj', 'ð', 'ø', 'ŋ', 'ŋ̟', 'ŋ͡m', 'œ', 'œ̃', 'ɐ', 'ɐ̞', 'ɑ', 'ɑ̱', 'ɒ', 'ɓ', 'ɔ', 'ɔ̃', 'ɕ', 'ɕː', 'ɖ̤', 'ɗ', 'ə', 'ɛ', 'ɛ̃', 'ɟ', 'ɡ', 'ɡʲ', 'ɡ̤', 'ɡ̥', 'ɣ', 'ɣj', 'ɤ', 'ɤɐ̞', 'ɤ̆', 'ɥ', 'ɦ', 'ɨ', 'ɪ', 'ɫ', 'ɯ', 'ɯ̟', 'ɯ̥', 'ɰ', 'ɱ', 'ɲ', 'ɳ', 'ɴ', 'ɵ', 'ɸ', 'ɹ', 'ɹ̩', 'ɻ', 'ɻ̩', 'ɽ', 'ɾ', 'ɾj', 'ɾʲ', 'ɾ̠', 'ʀ', 'ʁ', 'ʁ̝', 'ʂ', 'ʃ', 'ʃʲː', 'ʃ͡ɣ', 'ʈ', 'ʉ̞', 'ʊ', 'ʋ', 'ʋʲ', 'ʌ', 'ʎ', 'ʏ', 'ʐ', 'ʑ', 'ʒ', 'ʒ͡ɣ', 'ʔ', 'ʝ', 'ː', 'β', 'β̞', 'θ', 'χ', 'ә', 'ḁ']\n",
    "\n",
    "def encode(transcript):\n",
    "    '''\n",
    "    accepts a string transcript and returns a one hot encoded matrix\n",
    "    for each phone of the transcript\n",
    "    '''\n",
    "    phone_list = transcript.split(\" \")\n",
    "    one_hot = np.zeros((len(phone_list), len(phones)))\n",
    "    \n",
    "    for idx, phone in enumerate(phone_list):\n",
    "        phone_loc = phones.index(phone)\n",
    "        one_hot[idx][phone_loc] = 1\n",
    "    \n",
    "    return one_hot\n",
    "\n",
    "def recognize(audio_path):\n",
    "    '''\n",
    "    accepts audio file path and returns the transcript\n",
    "    '''\n",
    "    return model.recognize(audio_path)\n",
    "\n",
    "def list_phones():\n",
    "    return phones"
   ]
  },
  {
   "cell_type": "code",
   "execution_count": 97,
   "id": "0a6b74ff-fd9a-407c-bbe1-f0c9e0a41f06",
   "metadata": {},
   "outputs": [
    {
     "data": {
      "text/plain": [
       "(21, 229)"
      ]
     },
     "execution_count": 97,
     "metadata": {},
     "output_type": "execute_result"
    }
   ],
   "source": [
    "encode(recognize(\"./Voice.wav\")).shape"
   ]
  },
  {
   "cell_type": "code",
   "execution_count": null,
   "id": "57f4254b-76e2-40b0-b48a-26fd89ca4b47",
   "metadata": {},
   "outputs": [],
   "source": []
  }
 ],
 "metadata": {
  "kernelspec": {
   "display_name": "Python 3 (ipykernel)",
   "language": "python",
   "name": "python3"
  },
  "language_info": {
   "codemirror_mode": {
    "name": "ipython",
    "version": 3
   },
   "file_extension": ".py",
   "mimetype": "text/x-python",
   "name": "python",
   "nbconvert_exporter": "python",
   "pygments_lexer": "ipython3",
   "version": "3.9.7"
  }
 },
 "nbformat": 4,
 "nbformat_minor": 5
}
