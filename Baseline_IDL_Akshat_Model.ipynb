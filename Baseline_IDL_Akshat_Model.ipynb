{
 "cells": [
  {
   "cell_type": "code",
   "execution_count": 1,
   "id": "75051afa",
   "metadata": {},
   "outputs": [],
   "source": [
    "import torch\n",
    "import torch.nn as nn\n",
    "import torch.optim as optim\n",
    "from torch.nn.utils.rnn import pad_sequence\n",
    "from torch.utils.data import DataLoader\n",
    "# from torch.utils.tensorboard import SummaryWriter\n",
    "\n",
    "import numpy as np\n",
    "import math\n",
    "from tqdm import tqdm\n",
    "\n",
    "from utils.data import *\n",
    "import torch.nn.functional as F\n",
    "\n",
    "from utils.models import *"
   ]
  },
  {
   "cell_type": "code",
   "execution_count": 2,
   "id": "11868c79",
   "metadata": {},
   "outputs": [],
   "source": [
    "def get_data(path_to_data, speakers, recordings, voices, classes, less_prob = False, closeness=2):\n",
    "        X = []\n",
    "        Y = []\n",
    "        for speaker in speakers:\n",
    "            for record in recordings.keys():\n",
    "                for voice in voices:\n",
    "                    x_path = path_to_data+str(speaker)+\"/spchdatadir/recording\"+str(record)+\"/voice_\"+str(voice)+\".wav\"\n",
    "                    if less_prob:\n",
    "                        transcript = get_less_probable(x_path, closeness)\n",
    "                    else:\n",
    "                        transcript = get_transcript(x_path)\n",
    "                    X.append(transcript)\n",
    "                    Y.append(classes[recordings[record]])\n",
    "        return X, Y"
   ]
  },
  {
   "cell_type": "code",
   "execution_count": 21,
   "id": "8a654d4e",
   "metadata": {},
   "outputs": [],
   "source": [
    "class GarboSamples(torch.utils.data.Dataset):\n",
    "\n",
    "    def __init__(self, path_to_data, speakers, voices, recordings, classes, less_prob = False, closeness=2): # You can use partition to specify train or dev\n",
    "        self.Xs, self.Ys = get_data(path_to_data, speakers, recordings, voices, classes, less_prob, closeness)\n",
    "        assert(len(self.Xs) == len(self.Ys))\n",
    "        self.length = len(self.Xs)\n",
    "\n",
    "    def __len__(self):\n",
    "        return self.length\n",
    "\n",
    "    def __getitem__(self, ind):\n",
    "\n",
    "        X = self.Xs[ind]\n",
    "        Y = self.Ys[ind]\n",
    "\n",
    "        Yy = torch.tensor(Y, dtype=torch.long).view(-1)\n",
    "        Xx = torch.from_numpy(X).long()\n",
    "        return Xx, Yy\n",
    "\n",
    "    def collate_fn(self, batch):\n",
    "\n",
    "        batch_x = [x for x, y in batch]\n",
    "        batch_y = [y for x, y in batch]\n",
    "\n",
    "        batch_x_pad = pad_sequence(batch_x, batch_first=True)\n",
    "        lengths_x = [len(x) for x in batch_x]\n",
    "        \n",
    "        batch_y_pad = pad_sequence(batch_y, batch_first=True) \n",
    "        lengths_y = [len(y) for y in batch_y] \n",
    "\n",
    "        return batch_x_pad, batch_y_pad, torch.tensor(lengths_x).type(torch.int), torch.tensor(lengths_y)"
   ]
  },
  {
   "cell_type": "code",
   "execution_count": 22,
   "id": "437923e8",
   "metadata": {},
   "outputs": [],
   "source": [
    "path_to_data = \"Data/Speakers/pp\"\n",
    "train_speakers = range(2,3)\n",
    "val_speakers = [9, 10]\n",
    "test_speakers = [11, 12]\n",
    "two_intent_recordings = {29:\"Lift\",\n",
    "            1:\"Approach\"}\n",
    "four_intent_recordings = {\n",
    "        29:\"Lift\",\n",
    "        1:\"Approach\",\n",
    "        33:\"Grap\", \n",
    "        36:\"Point\"\n",
    "}\n",
    "classes = {\"Lift\":0, \n",
    "        \"Grap\":3, \n",
    "        \"Point\":2, \n",
    "        \"Approach\":1}\n",
    "voices = range(1, 8)\n",
    "less_prob = False\n",
    "closeness = 2"
   ]
  },
  {
   "cell_type": "code",
   "execution_count": 23,
   "id": "5ffc0d05",
   "metadata": {},
   "outputs": [],
   "source": [
    "BATCH_SIZE=4\n",
    "train_data = GarboSamples(path_to_data,train_speakers, voices, two_intent_recordings, classes, less_prob, closeness)\n",
    "val_data = GarboSamples(path_to_data,val_speakers, voices, two_intent_recordings, classes, less_prob, closeness)\n",
    "test_data = GarboSamples(path_to_data, test_speakers, voices, two_intent_recordings, classes, less_prob, closeness)\n",
    "train_loader = DataLoader(train_data, batch_size=BATCH_SIZE, shuffle=True, collate_fn=train_data.collate_fn)\n",
    "val_loader = DataLoader(val_data, batch_size=BATCH_SIZE, shuffle=True, collate_fn=val_data.collate_fn)\n",
    "test_loader = DataLoader(test_data, batch_size=BATCH_SIZE, shuffle=False, collate_fn=test_data.collate_fn)"
   ]
  },
  {
   "cell_type": "code",
   "execution_count": 24,
   "id": "c59e3626",
   "metadata": {},
   "outputs": [
    {
     "name": "stdout",
     "output_type": "stream",
     "text": [
      "Train dataset samples = 14, batches = 4\n",
      "Val dataset samples = 28, batches = 7\n",
      "Test dataset samples = 28, batches = 7\n"
     ]
    }
   ],
   "source": [
    "print(\"Train dataset samples = {}, batches = {}\".format(train_data.__len__(), len(train_loader)))\n",
    "print(\"Val dataset samples = {}, batches = {}\".format(val_data.__len__(), len(val_loader)))\n",
    "print(\"Test dataset samples = {}, batches = {}\".format(test_data.__len__(), len(test_loader)))"
   ]
  },
  {
   "cell_type": "code",
   "execution_count": 30,
   "id": "12813463",
   "metadata": {},
   "outputs": [
    {
     "name": "stdout",
     "output_type": "stream",
     "text": [
      "torch.Size([4, 21]) torch.Size([4, 1]) torch.Size([4]) torch.Size([4])\n",
      "tensor([1, 0, 1, 0])\n",
      "tensor([[1],\n",
      "        [0],\n",
      "        [1],\n",
      "        [0]])\n"
     ]
    }
   ],
   "source": [
    "for data in train_loader:\n",
    "    x, y, lx, ly = data\n",
    "    print(x.shape, y.shape, lx.shape, ly.shape)\n",
    "    break\n"
   ]
  },
  {
   "cell_type": "code",
   "execution_count": 26,
   "id": "69c78752",
   "metadata": {},
   "outputs": [],
   "source": [
    "epochs = 50\n",
    "model=ICASSP1CNN(229,label_size=2)\n",
    "criterion = nn.CrossEntropyLoss()\n",
    "optimizer = optim.Adam(model.parameters(), lr=0.01)\n",
    "scheduler = torch.optim.lr_scheduler.CosineAnnealingLR(optimizer, T_max=(len(train_loader) * epochs))"
   ]
  },
  {
   "cell_type": "code",
   "execution_count": 27,
   "id": "1718b93b",
   "metadata": {},
   "outputs": [
    {
     "name": "stdout",
     "output_type": "stream",
     "text": [
      "torch.Size([4, 21])\n",
      "tensor([[-0.0148,  0.0204],\n",
      "        [-0.0046,  0.0226],\n",
      "        [-0.0115,  0.0186],\n",
      "        [-0.0223,  0.0131]], grad_fn=<AddmmBackward>)\n"
     ]
    }
   ],
   "source": [
    "for i,(data) in enumerate(train_loader):\n",
    "    x, y, lx, ly = data\n",
    "    optimizer.zero_grad()\n",
    "    print(x.shape)\n",
    "    output = model(x,lx)\n",
    "    print(output)\n",
    "    break\n"
   ]
  },
  {
   "cell_type": "code",
   "execution_count": null,
   "id": "add6f2f7",
   "metadata": {},
   "outputs": [],
   "source": [
    "two_intent = True\n",
    "for epoch in range(epochs):\n",
    "    model.train()\n",
    "    total_loss = 0\n",
    "    num_corrects = 0\n",
    "    batch_bar = tqdm(total=len(train_loader), dynamic_ncols=True, leave=False, position=0, desc='Train')\n",
    "    for i, data in enumerate(train_loader):\n",
    "        x, y, lx, ly = data\n",
    "\n",
    "        optimizer.zero_grad()\n",
    "        output = model(x,lx)\n",
    "\n",
    "        loss = criterion(output, y.flatten())\n",
    "        total_loss+=float(loss)\n",
    "\n",
    "        loss.backward()\n",
    "        optimizer.step()\n",
    "\n",
    "        num_corrects += int((torch.argmax(output, axis=1) == y.flatten()).sum())\n",
    "\n",
    "        scheduler.step()\n",
    "        \n",
    "        batch_bar.set_postfix(\n",
    "        loss=\"{:.04f}\".format(float(total_loss / (i + 1))),\n",
    "        acc=\"{:0.4f}\".format(float(100 * num_corrects / ((i + 1) * BATCH_SIZE))))\n",
    "        batch_bar.update()\n",
    "        \n",
    "        del x\n",
    "        del y\n",
    "        del loss\n",
    "    print(\"Epoch: {}/{}, Training Loss {:.04f}, Training Accuracy {:.04f}\".format(\n",
    "        epoch+1,\n",
    "        epochs,\n",
    "        float(total_loss / len(train_loader)),\n",
    "        float(100 * num_corrects / (len(train_loader) * BATCH_SIZE))))\n",
    "batch_bar.close()\n",
    "    "
   ]
  },
  {
   "cell_type": "code",
   "execution_count": 34,
   "id": "4ce9757b",
   "metadata": {},
   "outputs": [
    {
     "name": "stderr",
     "output_type": "stream",
     "text": [
      "                                                                                   "
     ]
    },
    {
     "name": "stdout",
     "output_type": "stream",
     "text": [
      "Validation Loss 1.2171, Validation Accuracy 50.0000\n"
     ]
    },
    {
     "name": "stderr",
     "output_type": "stream",
     "text": [
      "\r"
     ]
    }
   ],
   "source": [
    "batch_bar = tqdm(total=len(val_loader), dynamic_ncols=True, leave=False, position=0, desc='Validation')\n",
    "total_loss=0\n",
    "num_corrects = 0\n",
    "for i,data in enumerate(val_loader):\n",
    "    x,y,lx,ly = data\n",
    "    with torch.no_grad():\n",
    "        output = model(x,lx)\n",
    "        \n",
    "    loss = criterion(output, y.flatten())\n",
    "    total_loss+=float(loss)\n",
    "    num_corrects += int((torch.argmax(output, axis=1) == y.flatten()).sum())\n",
    "\n",
    "    \n",
    "    batch_bar.set_postfix(\n",
    "        loss=\"{:.04f}\".format(float(total_loss / (i + 1))),\n",
    "        acc=\"{:0.4f}\".format(float(100 * num_corrects / ((i + 1) * BATCH_SIZE))))\n",
    "    batch_bar.update()\n",
    "    del x\n",
    "    del y\n",
    "    del loss\n",
    "batch_bar.close()\n",
    "\n",
    "print(\"Validation Loss {:.04f}, Validation Accuracy {:.04f}\".format(\n",
    "        float(total_loss / len(train_loader)),\n",
    "        float(100 * num_corrects / (len(val_loader) * BATCH_SIZE))))"
   ]
  },
  {
   "cell_type": "code",
   "execution_count": 33,
   "id": "7655eb60",
   "metadata": {},
   "outputs": [
    {
     "name": "stdout",
     "output_type": "stream",
     "text": [
      "Testing Accuracy: 50.0000\n"
     ]
    }
   ],
   "source": [
    "predictions = []\n",
    "total_loss=0\n",
    "num_corrects = 0\n",
    "for i, data in enumerate(test_loader):\n",
    "    x,y,lx,ly = data\n",
    "    with torch.no_grad():\n",
    "        output = model(x,lx)\n",
    "    \n",
    "    pred = np.argmax(output.detach().numpy(), axis=1)\n",
    "    num_corrects += int((torch.argmax(output, axis=1) ==y.flatten()).sum())\n",
    "\n",
    "    del x\n",
    "    del y\n",
    "print(\"Testing Accuracy: {:.04f}\".format(float(100 * num_corrects / (len(test_loader) * BATCH_SIZE))))\n"
   ]
  }
 ],
 "metadata": {
  "kernelspec": {
   "display_name": "Python 3 (ipykernel)",
   "language": "python",
   "name": "python3"
  },
  "language_info": {
   "codemirror_mode": {
    "name": "ipython",
    "version": 3
   },
   "file_extension": ".py",
   "mimetype": "text/x-python",
   "name": "python",
   "nbconvert_exporter": "python",
   "pygments_lexer": "ipython3",
   "version": "3.9.7"
  }
 },
 "nbformat": 4,
 "nbformat_minor": 5
}
