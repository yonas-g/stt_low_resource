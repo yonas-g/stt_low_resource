{
 "cells": [
  {
   "cell_type": "code",
   "execution_count": 1,
   "id": "75051afa",
   "metadata": {},
   "outputs": [],
   "source": [
    "import torch\n",
    "import torch.nn as nn\n",
    "import torch.optim as optim\n",
    "from torch.nn.utils.rnn import pad_sequence, pack_padded_sequence, pad_packed_sequence\n",
    "from torch.utils.data import DataLoader\n",
    "# from torch.utils.tensorboard import SummaryWriter\n",
    "\n",
    "import numpy as np\n",
    "import math\n",
    "from tqdm import tqdm\n",
    "from sklearn.metrics import accuracy_score\n",
    "\n",
    "from utils.data import *\n",
    "import torch.nn.functional as F\n",
    "\n",
    "from utils.models import ICASSP1CNN, ICASSP2CNN, ICASSP3CNN"
   ]
  },
  {
   "cell_type": "code",
   "execution_count": 29,
   "id": "11868c79",
   "metadata": {},
   "outputs": [],
   "source": [
    "def get_data(path_to_data, speakers, recordings, voices, classes, get_close = False, closeness=2):\n",
    "        X = []\n",
    "        Y = []\n",
    "        for speaker in speakers:\n",
    "            for record in recordings.keys():\n",
    "                for voice in voices:\n",
    "                    x_path = path_to_data+str(speaker)+\"/spchdatadir/recording\"+str(record)+\"/voice_\"+str(voice)+\".wav\"\n",
    "                    if get_close:\n",
    "                        transcript = get_similar(x_path, closeness)\n",
    "                    else:\n",
    "                        transcript = get_transcript(x_path)\n",
    "                    X.append(transcript)\n",
    "                    Y.append(classes[recordings[record]])\n",
    "        return X, Y"
   ]
  },
  {
   "cell_type": "code",
   "execution_count": 3,
   "id": "8a654d4e",
   "metadata": {},
   "outputs": [],
   "source": [
    "class GarboSamples(torch.utils.data.Dataset):\n",
    "\n",
    "    def __init__(self, path_to_data, speakers, voices, recordings, classes, get_close = False, closeness=2): # You can use partition to specify train or dev\n",
    "        self.Xs, self.Ys = get_data(path_to_data, speakers, recordings, voices, classes, feats, get_close, closeness)\n",
    "        assert(len(self.Xs) == len(self.Ys))\n",
    "        self.length = len(self.Xs)\n",
    "\n",
    "    def __len__(self):\n",
    "        return self.length\n",
    "\n",
    "    def __getitem__(self, ind):\n",
    "\n",
    "        X = self.Xs[ind]\n",
    "        Y = self.Ys[ind]\n",
    "\n",
    "        Yy = torch.tensor(Y, dtype=torch.long).view(-1, 1)\n",
    "        Xx = torch.from_numpy(X).long()\n",
    "        return Xx, Yy\n",
    "\n",
    "    def collate_fn(self, batch):\n",
    "\n",
    "        batch_x = [x for x, y in batch]\n",
    "        batch_y = [y for x, y in batch]\n",
    "\n",
    "        batch_x_pad = pad_sequence(batch_x, batch_first=True)\n",
    "        lengths_x = [len(x) for x in batch_x]\n",
    "        \n",
    "        batch_y_pad = pad_sequence(batch_y, batch_first=True) \n",
    "        lengths_y = [len(y) for y in batch_y] \n",
    "\n",
    "        return batch_x_pad, batch_y_pad, torch.tensor(lengths_x).type(torch.int), torch.tensor(lengths_y)"
   ]
  },
  {
   "cell_type": "code",
   "execution_count": 5,
   "id": "437923e8",
   "metadata": {},
   "outputs": [],
   "source": [
    "path_to_data = \"Data/Speakers/pp\"\n",
    "train_speakers = range(2,3)\n",
    "val_speakers = [9, 10]\n",
    "test_speakers = [11, 12]\n",
    "two_intent_recordings = {29:\"Lift\",\n",
    "            1:\"Approach\"}\n",
    "four_intent_recordings = {\n",
    "        29:\"Lift\",\n",
    "        1:\"Approach\",\n",
    "        33:\"Grap\", \n",
    "        36:\"Point\"\n",
    "}\n",
    "classes = {\"Lift\":0, \n",
    "        \"Grap\":3, \n",
    "        \"Point\":2, \n",
    "        \"Approach\":1}\n",
    "voices = range(1, 8)\n",
    "get_close = False\n",
    "closeness = 2"
   ]
  },
  {
   "cell_type": "code",
   "execution_count": 5,
   "id": "5ffc0d05",
   "metadata": {},
   "outputs": [],
   "source": [
    "BATCH_SIZE=2\n",
    "train_data = GarboSamples(path_to_data,train_speakers, voices, two_intent_recordings, classes, get_close, closeness)\n",
    "val_data = GarboSamples(path_to_data,val_speakers, voices, two_intent_recordings, classes, get_close, closeness)\n",
    "test_data = GarboSamples(path_to_data, test_speakers, voices, two_intent_recordings, classes, get_close, closeness)\n",
    "train_loader = DataLoader(train_data, batch_size=BATCH_SIZE, shuffle=True, collate_fn=train_data.collate_fn)\n",
    "val_loader = DataLoader(val_data, batch_size=BATCH_SIZE, shuffle=True, collate_fn=val_data.collate_fn)\n",
    "test_loader = DataLoader(test_data, batch_size=BATCH_SIZE, shuffle=False, collate_fn=test_data.collate_fn)"
   ]
  },
  {
   "cell_type": "code",
   "execution_count": 6,
   "id": "c59e3626",
   "metadata": {},
   "outputs": [
    {
     "name": "stdout",
     "output_type": "stream",
     "text": [
      "Train dataset samples = 14, batches = 7\n",
      "Val dataset samples = 28, batches = 14\n",
      "Test dataset samples = 28, batches = 14\n"
     ]
    }
   ],
   "source": [
    "print(\"Train dataset samples = {}, batches = {}\".format(train_data.__len__(), len(train_loader)))\n",
    "print(\"Val dataset samples = {}, batches = {}\".format(val_data.__len__(), len(val_loader)))\n",
    "print(\"Test dataset samples = {}, batches = {}\".format(test_data.__len__(), len(test_loader)))"
   ]
  },
  {
   "cell_type": "code",
   "execution_count": 7,
   "id": "12813463",
   "metadata": {},
   "outputs": [
    {
     "name": "stdout",
     "output_type": "stream",
     "text": [
      "torch.Size([2, 21]) torch.Size([2, 1, 1]) torch.Size([2]) torch.Size([2])\n",
      "tensor([[[0]],\n",
      "\n",
      "        [[1]]])\n"
     ]
    }
   ],
   "source": [
    "for data in train_loader:\n",
    "    x, y, lx, ly = data # if you face an error saying \"Cannot unpack\", then you are not passing the collate_fn argument\n",
    "    print(x.shape, y.shape, lx.shape, ly.shape)\n",
    "    print(y)\n",
    "    break\n"
   ]
  },
  {
   "cell_type": "code",
   "execution_count": 8,
   "id": "69c78752",
   "metadata": {},
   "outputs": [],
   "source": [
    "epochs = 50\n",
    "model=ICASSP1CNN(229,label_size=2)\n",
    "criterion = nn.CrossEntropyLoss()\n",
    "optimizer = optim.Adam(model.parameters(), lr=0.01)\n",
    "scheduler = torch.optim.lr_scheduler.CosineAnnealingLR(optimizer, T_max=(len(train_loader) * epochs))"
   ]
  },
  {
   "cell_type": "code",
   "execution_count": 9,
   "id": "1718b93b",
   "metadata": {},
   "outputs": [
    {
     "name": "stdout",
     "output_type": "stream",
     "text": [
      "torch.Size([2, 21])\n",
      "tensor([[-0.0254, -0.0210],\n",
      "        [-0.0047, -0.0105]], grad_fn=<AddmmBackward>)\n"
     ]
    }
   ],
   "source": [
    "for i,(data) in enumerate(train_loader):\n",
    "    x, y, lx, ly = data\n",
    "    optimizer.zero_grad()\n",
    "    print(x.shape)\n",
    "    output = model(x,lx)#.view(-1, x.size(2)), lx)\n",
    "    print(output)\n",
    "    break\n"
   ]
  },
  {
   "cell_type": "code",
   "execution_count": 19,
   "id": "add6f2f7",
   "metadata": {},
   "outputs": [
    {
     "name": "stderr",
     "output_type": "stream",
     "text": [
      "Train:  50%|█████     | 7/14 [00:02<00:02,  2.35it/s, loss=0.0004]    "
     ]
    },
    {
     "name": "stdout",
     "output_type": "stream",
     "text": [
      "Epoch: 1, Training Loss 0.0004, Training Accuracy 0.1429\n"
     ]
    },
    {
     "name": "stderr",
     "output_type": "stream",
     "text": [
      "Train:  50%|█████     | 7/14 [00:02<00:01,  3.62it/s, loss=0.0003]"
     ]
    },
    {
     "name": "stdout",
     "output_type": "stream",
     "text": [
      "Epoch: 2, Training Loss 0.0003, Training Accuracy 0.4286\n"
     ]
    },
    {
     "name": "stderr",
     "output_type": "stream",
     "text": [
      "Train:  50%|█████     | 7/14 [00:02<00:02,  2.87it/s, loss=0.0003]"
     ]
    },
    {
     "name": "stdout",
     "output_type": "stream",
     "text": [
      "Epoch: 3, Training Loss 0.0003, Training Accuracy 0.2857\n"
     ]
    },
    {
     "name": "stderr",
     "output_type": "stream",
     "text": [
      "Train:  50%|█████     | 7/14 [00:02<00:02,  2.64it/s, loss=0.0003]"
     ]
    },
    {
     "name": "stdout",
     "output_type": "stream",
     "text": [
      "Epoch: 4, Training Loss 0.0003, Training Accuracy 0.1429\n"
     ]
    },
    {
     "name": "stderr",
     "output_type": "stream",
     "text": [
      "Train:  50%|█████     | 7/14 [00:03<00:03,  2.32it/s, loss=0.0003]"
     ]
    },
    {
     "name": "stdout",
     "output_type": "stream",
     "text": [
      "Epoch: 5, Training Loss 0.0003, Training Accuracy 0.5714\n"
     ]
    },
    {
     "name": "stderr",
     "output_type": "stream",
     "text": [
      "Train:  50%|█████     | 7/14 [00:02<00:03,  2.30it/s, loss=0.0003]"
     ]
    },
    {
     "name": "stdout",
     "output_type": "stream",
     "text": [
      "Epoch: 6, Training Loss 0.0003, Training Accuracy 0.7143\n"
     ]
    },
    {
     "name": "stderr",
     "output_type": "stream",
     "text": [
      "Train:  50%|█████     | 7/14 [00:02<00:02,  2.65it/s, loss=0.0003]"
     ]
    },
    {
     "name": "stdout",
     "output_type": "stream",
     "text": [
      "Epoch: 7, Training Loss 0.0003, Training Accuracy 0.4286\n"
     ]
    },
    {
     "name": "stderr",
     "output_type": "stream",
     "text": [
      "Train:  50%|█████     | 7/14 [00:03<00:03,  2.10it/s, loss=0.0003]"
     ]
    },
    {
     "name": "stdout",
     "output_type": "stream",
     "text": [
      "Epoch: 8, Training Loss 0.0003, Training Accuracy 0.4286\n"
     ]
    },
    {
     "name": "stderr",
     "output_type": "stream",
     "text": [
      "Train:  50%|█████     | 7/14 [00:02<00:03,  2.16it/s, loss=0.0003]"
     ]
    },
    {
     "name": "stdout",
     "output_type": "stream",
     "text": [
      "Epoch: 9, Training Loss 0.0003, Training Accuracy 0.5714\n"
     ]
    },
    {
     "name": "stderr",
     "output_type": "stream",
     "text": [
      "Train:  50%|█████     | 7/14 [00:02<00:02,  3.04it/s, loss=0.0003]"
     ]
    },
    {
     "name": "stdout",
     "output_type": "stream",
     "text": [
      "Epoch: 10, Training Loss 0.0003, Training Accuracy 0.4286\n"
     ]
    },
    {
     "name": "stderr",
     "output_type": "stream",
     "text": [
      "Train:  50%|█████     | 7/14 [00:03<00:03,  2.22it/s, loss=0.0002]"
     ]
    },
    {
     "name": "stdout",
     "output_type": "stream",
     "text": [
      "Epoch: 11, Training Loss 0.0002, Training Accuracy 0.5714\n"
     ]
    },
    {
     "name": "stderr",
     "output_type": "stream",
     "text": [
      "Train:  50%|█████     | 7/14 [00:02<00:02,  2.63it/s, loss=0.0002]"
     ]
    },
    {
     "name": "stdout",
     "output_type": "stream",
     "text": [
      "Epoch: 12, Training Loss 0.0002, Training Accuracy 0.4286\n"
     ]
    },
    {
     "name": "stderr",
     "output_type": "stream",
     "text": [
      "Train:  50%|█████     | 7/14 [00:02<00:02,  3.01it/s, loss=0.0002]"
     ]
    },
    {
     "name": "stdout",
     "output_type": "stream",
     "text": [
      "Epoch: 13, Training Loss 0.0002, Training Accuracy 0.2857\n"
     ]
    },
    {
     "name": "stderr",
     "output_type": "stream",
     "text": [
      "Train:  50%|█████     | 7/14 [00:02<00:02,  3.31it/s, loss=0.0002]"
     ]
    },
    {
     "name": "stdout",
     "output_type": "stream",
     "text": [
      "Epoch: 14, Training Loss 0.0002, Training Accuracy 0.5714\n"
     ]
    },
    {
     "name": "stderr",
     "output_type": "stream",
     "text": [
      "Train:  50%|█████     | 7/14 [00:02<00:02,  2.46it/s, loss=0.0002]"
     ]
    },
    {
     "name": "stdout",
     "output_type": "stream",
     "text": [
      "Epoch: 15, Training Loss 0.0002, Training Accuracy 0.2857\n"
     ]
    },
    {
     "name": "stderr",
     "output_type": "stream",
     "text": [
      "Train:  50%|█████     | 7/14 [00:02<00:02,  3.03it/s, loss=0.0002]"
     ]
    },
    {
     "name": "stdout",
     "output_type": "stream",
     "text": [
      "Epoch: 16, Training Loss 0.0002, Training Accuracy 0.5714\n"
     ]
    },
    {
     "name": "stderr",
     "output_type": "stream",
     "text": [
      "Train:  50%|█████     | 7/14 [00:02<00:03,  2.30it/s, loss=0.0002]"
     ]
    },
    {
     "name": "stdout",
     "output_type": "stream",
     "text": [
      "Epoch: 17, Training Loss 0.0002, Training Accuracy 0.5714\n"
     ]
    },
    {
     "name": "stderr",
     "output_type": "stream",
     "text": [
      "Train:  50%|█████     | 7/14 [00:02<00:02,  3.24it/s, loss=0.0002]"
     ]
    },
    {
     "name": "stdout",
     "output_type": "stream",
     "text": [
      "Epoch: 18, Training Loss 0.0002, Training Accuracy 0.8571\n"
     ]
    },
    {
     "name": "stderr",
     "output_type": "stream",
     "text": [
      "Train:  50%|█████     | 7/14 [00:01<00:01,  3.85it/s, loss=0.0002]"
     ]
    },
    {
     "name": "stdout",
     "output_type": "stream",
     "text": [
      "Epoch: 19, Training Loss 0.0002, Training Accuracy 0.8571\n"
     ]
    },
    {
     "name": "stderr",
     "output_type": "stream",
     "text": [
      "Train:  50%|█████     | 7/14 [00:01<00:01,  4.44it/s, loss=0.0002]"
     ]
    },
    {
     "name": "stdout",
     "output_type": "stream",
     "text": [
      "Epoch: 20, Training Loss 0.0002, Training Accuracy 0.2857\n"
     ]
    },
    {
     "name": "stderr",
     "output_type": "stream",
     "text": [
      "Train:  50%|█████     | 7/14 [00:01<00:01,  4.07it/s, loss=0.0002]"
     ]
    },
    {
     "name": "stdout",
     "output_type": "stream",
     "text": [
      "Epoch: 21, Training Loss 0.0002, Training Accuracy 0.5714\n"
     ]
    },
    {
     "name": "stderr",
     "output_type": "stream",
     "text": [
      "Train:  50%|█████     | 7/14 [00:02<00:02,  3.21it/s, loss=0.0002]"
     ]
    },
    {
     "name": "stdout",
     "output_type": "stream",
     "text": [
      "Epoch: 22, Training Loss 0.0002, Training Accuracy 0.4286\n"
     ]
    },
    {
     "name": "stderr",
     "output_type": "stream",
     "text": [
      "Train:  50%|█████     | 7/14 [00:02<00:02,  3.33it/s, loss=0.0002]"
     ]
    },
    {
     "name": "stdout",
     "output_type": "stream",
     "text": [
      "Epoch: 23, Training Loss 0.0002, Training Accuracy 0.2857\n"
     ]
    },
    {
     "name": "stderr",
     "output_type": "stream",
     "text": [
      "Train:  50%|█████     | 7/14 [00:02<00:01,  3.51it/s, loss=0.0002]"
     ]
    },
    {
     "name": "stdout",
     "output_type": "stream",
     "text": [
      "Epoch: 24, Training Loss 0.0002, Training Accuracy 0.4286\n"
     ]
    },
    {
     "name": "stderr",
     "output_type": "stream",
     "text": [
      "Train:  43%|████▎     | 6/14 [00:01<00:02,  3.48it/s, loss=0.0002]"
     ]
    }
   ],
   "source": [
    "two_intent = True\n",
    "for epoch in range(epochs):\n",
    "    model.train()\n",
    "    total_loss = 0\n",
    "    predictions = []\n",
    "    trues = []\n",
    "    batch_bar = tqdm(total=len(val_loader), dynamic_ncols=True, leave=False, position=0, desc='Train')\n",
    "    for i, data in enumerate(train_loader):\n",
    "        x, y, lx, ly = data\n",
    "\n",
    "        optimizer.zero_grad()\n",
    "        output = model(x,lx)\n",
    "\n",
    "        loss = criterion(output, y.reshape(y.shape[0]))\n",
    "        total_loss+=loss\n",
    "\n",
    "        loss.backward()\n",
    "        optimizer.step()\n",
    "\n",
    "        pred = np.argmax(output.detach().numpy())\n",
    "        predictions.append(pred)\n",
    "        trues.append(y.flatten()[0].numpy())\n",
    "\n",
    "        scheduler.step()\n",
    "        \n",
    "        batch_bar.set_postfix(\n",
    "        loss=\"{:.04f}\".format(float(total_loss / (i + 1))))\n",
    "        batch_bar.update()\n",
    "        \n",
    "        del x\n",
    "        del y\n",
    "        del loss\n",
    "    print(\"Epoch: {}, Training Loss {:.04f}, Training Accuracy {:.04f}\".format(\n",
    "        epoch+1,\n",
    "        float(total_loss / len(train_loader)),\n",
    "        float(accuracy_score(predictions, trues))))\n",
    "batch_bar.close()\n",
    "    "
   ]
  },
  {
   "cell_type": "code",
   "execution_count": 16,
   "id": "4ce9757b",
   "metadata": {},
   "outputs": [
    {
     "name": "stderr",
     "output_type": "stream",
     "text": [
      "                                                                        "
     ]
    },
    {
     "name": "stdout",
     "output_type": "stream",
     "text": [
      "Validation Loss 2.9693, Validation Accuracy 0.7500\n"
     ]
    },
    {
     "name": "stderr",
     "output_type": "stream",
     "text": [
      "\r"
     ]
    }
   ],
   "source": [
    "batch_bar = tqdm(total=len(val_loader), dynamic_ncols=True, leave=False, position=0, desc='Validation')\n",
    "total_loss=0\n",
    "predictions = []\n",
    "trues = []\n",
    "for i,data in enumerate(val_loader):\n",
    "    x,y,lx,ly = data\n",
    "    with torch.no_grad():\n",
    "        output = model(x,lx)\n",
    "        \n",
    "    loss = criterion(output, y.reshape(y.shape[0]))\n",
    "    total_loss+=loss\n",
    "    pred = np.argmax(output.detach().numpy(),axis=1)\n",
    "    for p in pred:\n",
    "        predictions.append(p)\n",
    "    for t in y.reshape(y.shape[0]):\n",
    "        trues.append(int(t))\n",
    "\n",
    "    \n",
    "    batch_bar.set_postfix(\n",
    "        loss=\"{:.04f}\".format(float(total_loss / (i + 1))))\n",
    "    batch_bar.update()\n",
    "    del x\n",
    "    del y\n",
    "    del loss\n",
    "batch_bar.close()\n",
    "\n",
    "print(\"Validation Loss {:.04f}, Validation Accuracy {:.04f}\".format(\n",
    "        float(total_loss / len(val_loader)),\n",
    "        float(accuracy_score(predictions, trues))))"
   ]
  },
  {
   "cell_type": "code",
   "execution_count": 18,
   "id": "7655eb60",
   "metadata": {},
   "outputs": [
    {
     "name": "stderr",
     "output_type": "stream",
     "text": [
      "Test:  93%|█████████▎| 13/14 [00:00<00:00, 56.67it/s, progress=0.9286]"
     ]
    },
    {
     "name": "stdout",
     "output_type": "stream",
     "text": [
      "Testing Accuracy: 0.5714\n"
     ]
    },
    {
     "name": "stderr",
     "output_type": "stream",
     "text": [
      "Test: 100%|██████████| 14/14 [00:13<00:00, 56.67it/s, progress=0.9286]"
     ]
    }
   ],
   "source": [
    "predictions = []\n",
    "trues = []\n",
    "batch_bar = tqdm(total=len(test_loader), dynamic_ncols=True, leave=False, position=0, desc='Test')\n",
    "total_loss=0\n",
    "for i, data in enumerate(test_loader):\n",
    "    x,y,lx,ly = data\n",
    "    with torch.no_grad():\n",
    "        output = model(x,lx)\n",
    "    \n",
    "    pred = np.argmax(output.detach().numpy(), axis=1)\n",
    "    for p in pred:\n",
    "        predictions.append(p)\n",
    "    for t in y.reshape(y.shape[0]):\n",
    "        trues.append(int(t))  \n",
    "\n",
    "    batch_bar.set_postfix(\n",
    "        progress=\"{:.04f}\".format(float(i / len(test_loader))))\n",
    "    batch_bar.update()\n",
    "    del x\n",
    "    del y\n",
    "print(\"Testing Accuracy: {:.04f}\".format(accuracy_score(predictions, trues)))\n"
   ]
  },
  {
   "cell_type": "code",
   "execution_count": null,
   "id": "87fdbc2b",
   "metadata": {},
   "outputs": [],
   "source": []
  },
  {
   "cell_type": "code",
   "execution_count": null,
   "id": "f0d0e107",
   "metadata": {},
   "outputs": [],
   "source": []
  }
 ],
 "metadata": {
  "kernelspec": {
   "display_name": "Python 3 (ipykernel)",
   "language": "python",
   "name": "python3"
  },
  "language_info": {
   "codemirror_mode": {
    "name": "ipython",
    "version": 3
   },
   "file_extension": ".py",
   "mimetype": "text/x-python",
   "name": "python",
   "nbconvert_exporter": "python",
   "pygments_lexer": "ipython3",
   "version": "3.9.7"
  }
 },
 "nbformat": 4,
 "nbformat_minor": 5
}
